{
 "cells": [
  {
   "cell_type": "code",
   "execution_count": 1,
   "metadata": {},
   "outputs": [
    {
     "name": "stdout",
     "output_type": "stream",
     "text": [
      "enter your marks - 86\n",
      "Grade: B\n"
     ]
    }
   ],
   "source": [
    "#WAP to to take one number as input and using if statements, assign a grade(A,B,C,D,E,FAIL) to that number.\n",
    "#Grading criteria: \n",
    "#score >= 90 : \"A\"\n",
    "#score >= 80 : \"B\"\n",
    "#score >= 70 : \"C\"\n",
    "#score >= 60 : \"D\"\n",
    "#score >= 50 : \"E\"\n",
    "#score >= 40 : \"FAIL\"\n",
    "\n",
    "x= int(input(\"enter your marks - \"))\n",
    "if(x>=90):\n",
    "    print(\"Grade: A\")\n",
    "elif(x>=80 and x<90):\n",
    "    print(\"Grade: B\")\n",
    "elif(x>=70 and x<80):\n",
    "    print(\"Grade: C\")\n",
    "elif(x>=60 and x<70):\n",
    "    print(\"Grade: D\")\n",
    "elif(x>=50 and x<60):\n",
    "    print(\"Grade: D\")\n",
    "else:\n",
    "    print(\"Grade: FAIL\")"
   ]
  },
  {
   "cell_type": "code",
   "execution_count": 11,
   "metadata": {},
   "outputs": [
    {
     "name": "stdout",
     "output_type": "stream",
     "text": [
      "Guess team India Score\n",
      "system generated random score is  138\n",
      "Guess a number (between 1 and 250):\n",
      "150\n",
      "you don't watch that much P:\n",
      "Guess a number (between 1 and 250):\n",
      "148\n",
      "Close by, you are true Indian fan\n",
      "Guess a number (between 1 and 250):\n",
      "128\n",
      "Close by, you are true Indian fan\n",
      "Guess a number (between 1 and 250):\n",
      "125\n",
      "you don't watch that much P:\n",
      "Guess a number (between 1 and 250):\n",
      "259\n",
      "you don't watch that much P:\n"
     ]
    }
   ],
   "source": [
    " #wap to guess the score of team India in 20-20 match. the score will be a random number and the guess would be in beween 0-250.\n",
    "#import random\n",
    "#print (random.randrange(1, 250)) \n",
    "\n",
    "import random \n",
    "print(\"Guess team India Score\") \n",
    "numb = random.randint(1,250) \n",
    "print(\"system generated random score is \",numb)\n",
    "\n",
    "chances = 0  \n",
    "while chances < 5:   \n",
    "    print(\"Guess a number (between 1 and 250):\")\n",
    "    guess = int(input())\n",
    "    #diff=abs(numb-guess)\n",
    "    #print(\"difference is\",diff)\n",
    "    \n",
    "    chances = chances+1\n",
    "    if guess == numb:\n",
    "        print(\"you guess is perfectly matched with the score\")\n",
    "    elif guess < 1 and guess > 250: \n",
    "        print(\"Reduce your expectations for 20-20 cricket\")  \n",
    "    elif ((guess>=numb) and (guess-numb<=10)) or ((numb>=guess) and (numb-guess<=10)):  \n",
    "    #elif(guess>=1 and guess<=250) and (diff<=10):\n",
    "        print(\"Close by, you are true Indian fan\")            \n",
    "    elif ((guess>numb) and (guess-numb>=10)) or ((guess<numb) and (numb-guess>=10)):\n",
    "    #elif(guess>=1 and guess<=250) and(diff>10):\n",
    "        print(\"you don't watch that much P:\")        \n",
    "    #chances = chances+1  \n",
    "#if not chances < 5: \n",
    "#    print(\"YOU LOSE!!! The number is\", number) \n",
    " "
   ]
  },
  {
   "cell_type": "code",
   "execution_count": null,
   "metadata": {},
   "outputs": [],
   "source": []
  },
  {
   "cell_type": "code",
   "execution_count": null,
   "metadata": {},
   "outputs": [],
   "source": []
  }
 ],
 "metadata": {
  "kernelspec": {
   "display_name": "Python 3",
   "language": "python",
   "name": "python3"
  },
  "language_info": {
   "codemirror_mode": {
    "name": "ipython",
    "version": 3
   },
   "file_extension": ".py",
   "mimetype": "text/x-python",
   "name": "python",
   "nbconvert_exporter": "python",
   "pygments_lexer": "ipython3",
   "version": "3.7.6"
  }
 },
 "nbformat": 4,
 "nbformat_minor": 4
}
