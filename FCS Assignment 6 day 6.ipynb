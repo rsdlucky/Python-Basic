{
 "cells": [
  {
   "cell_type": "code",
   "execution_count": 9,
   "metadata": {},
   "outputs": [
    {
     "name": "stdout",
     "output_type": "stream",
     "text": [
      "INPUT THE TEXT IN CAPITAL = AEDPODPOPSPDP\n",
      "HOLES IN THE ENTERED TEXT ARE:  11\n"
     ]
    }
   ],
   "source": [
    "#Write a program to determine how many holes are in a given text.\n",
    "\n",
    "holes = {'A','B','D','O','P','Q','R'}\n",
    "lis=[]\n",
    "\n",
    "hole = 0\n",
    "li=input(\"INPUT THE TEXT IN CAPITAL = \")\n",
    "\n",
    "for item in li:\n",
    "  if(item in holes):\n",
    "    if(item =='B'):\n",
    "      hole = hole + 2\n",
    "\n",
    "    else:\n",
    "      hole = hole + 1\n",
    "\n",
    "print(\"HOLES IN THE ENTERED TEXT ARE: \", hole)"
   ]
  }
 ],
 "metadata": {
  "kernelspec": {
   "display_name": "Python 3",
   "language": "python",
   "name": "python3"
  },
  "language_info": {
   "codemirror_mode": {
    "name": "ipython",
    "version": 3
   },
   "file_extension": ".py",
   "mimetype": "text/x-python",
   "name": "python",
   "nbconvert_exporter": "python",
   "pygments_lexer": "ipython3",
   "version": "3.7.6"
  }
 },
 "nbformat": 4,
 "nbformat_minor": 4
}
