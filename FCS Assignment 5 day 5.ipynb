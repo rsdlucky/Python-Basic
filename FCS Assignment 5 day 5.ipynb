{
 "cells": [
  {
   "cell_type": "code",
   "execution_count": 3,
   "metadata": {},
   "outputs": [
    {
     "name": "stdout",
     "output_type": "stream",
     "text": [
      "Input a number 8\n",
      "{1: 1, 2: 4, 3: 9, 4: 16, 5: 25, 6: 36, 7: 49, 8: 64}\n"
     ]
    }
   ],
   "source": [
    "#Create and print a dictionary which contains (i,i*i), where i is from 1 to n (both included).\n",
    "\n",
    "n=int(input(\"Input a number \"))\n",
    "d = dict()\n",
    "\n",
    "for i in range(1,n+1):\n",
    "    d[i]=i*i\n",
    "\n",
    "print(d) \n"
   ]
  },
  {
   "cell_type": "code",
   "execution_count": 11,
   "metadata": {},
   "outputs": [
    {
     "ename": "SyntaxError",
     "evalue": "invalid character in identifier (<ipython-input-11-9ae915186426>, line 6)",
     "output_type": "error",
     "traceback": [
      "\u001b[1;36m  File \u001b[1;32m\"<ipython-input-11-9ae915186426>\"\u001b[1;36m, line \u001b[1;32m6\u001b[0m\n\u001b[1;33m    num = int(input(\"Enter desired number to check\"))\u001b[0m\n\u001b[1;37m    ^\u001b[0m\n\u001b[1;31mSyntaxError\u001b[0m\u001b[1;31m:\u001b[0m invalid character in identifier\n"
     ]
    }
   ],
   "source": [
    "\n",
    "\n",
    "def check(a,b):\n",
    "    b = list()\n",
    "    num = int(input(\"Enter desired number to check\"))\n",
    "    for i in a:\n",
    "        if(i%int(num)==0 and i!=int(num)):\n",
    "        b.append(i)\n",
    "        print(b)\n",
    "\n",
    "# creates a list for storing number ranging from \"x\" to \"y\"\n",
    "a = list()\n",
    "for i in range(1,51):\n",
    "    a.append(i)\n",
    "\n",
    "check(a)"
   ]
  },
  {
   "cell_type": "code",
   "execution_count": 24,
   "metadata": {},
   "outputs": [
    {
     "name": "stdout",
     "output_type": "stream",
     "text": [
      "Enter a two value: 2 6\n",
      "First number is 2 and second number is 6\n",
      "\n",
      "Sliced elements of the given list are\n",
      "3\n",
      "4\n",
      "5\n",
      "6\n",
      "7\n"
     ]
    }
   ],
   "source": [
    "#create a list of numbers from 1 to 50 named list_1. \n",
    "#The numbers should be present in the increasing order: Ex list_1 = [1,2,3,4,5,....,50]\n",
    "\n",
    "nums = list(range(1, 50))\n",
    "\n",
    "a, b = input(\"Enter a two value: \").split()\n",
    "print(\"First number is {} and second number is {}\".format(a, b)) \n",
    "print() \n",
    "sliced_ele = nums[2:7]\n",
    "print(\"Sliced elements of the given list are\")\n",
    "print(*sliced_ele, sep = \"\\n\")\n"
   ]
  },
  {
   "cell_type": "code",
   "execution_count": null,
   "metadata": {},
   "outputs": [],
   "source": []
  }
 ],
 "metadata": {
  "kernelspec": {
   "display_name": "Python 3",
   "language": "python",
   "name": "python3"
  },
  "language_info": {
   "codemirror_mode": {
    "name": "ipython",
    "version": 3
   },
   "file_extension": ".py",
   "mimetype": "text/x-python",
   "name": "python",
   "nbconvert_exporter": "python",
   "pygments_lexer": "ipython3",
   "version": "3.7.6"
  }
 },
 "nbformat": 4,
 "nbformat_minor": 4
}
