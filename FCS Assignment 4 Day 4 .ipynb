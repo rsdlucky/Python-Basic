{
 "cells": [
  {
   "cell_type": "code",
   "execution_count": 2,
   "metadata": {},
   "outputs": [
    {
     "name": "stdout",
     "output_type": "stream",
     "text": [
      "Enter the number of elements:8\n",
      "1\n",
      "5\n",
      "6\n",
      "1\n",
      "8\n",
      "5\n",
      "9\n",
      "6\n"
     ]
    },
    {
     "ename": "ValueError",
     "evalue": "5 is not in list",
     "output_type": "error",
     "traceback": [
      "\u001b[1;31m---------------------------------------------------------------------------\u001b[0m",
      "\u001b[1;31mValueError\u001b[0m                                Traceback (most recent call last)",
      "\u001b[1;32m<ipython-input-2-ab4fcbd2a333>\u001b[0m in \u001b[0;36m<module>\u001b[1;34m\u001b[0m\n\u001b[0;32m     16\u001b[0m \u001b[1;33m\u001b[0m\u001b[0m\n\u001b[0;32m     17\u001b[0m \u001b[1;31m#checking the list\u001b[0m\u001b[1;33m\u001b[0m\u001b[1;33m\u001b[0m\u001b[1;33m\u001b[0m\u001b[0m\n\u001b[1;32m---> 18\u001b[1;33m \u001b[0mres\u001b[0m\u001b[1;33m=\u001b[0m\u001b[0mcheck\u001b[0m\u001b[1;33m(\u001b[0m\u001b[0mmylist\u001b[0m\u001b[1;33m,\u001b[0m\u001b[0msub\u001b[0m\u001b[1;33m)\u001b[0m\u001b[1;33m\u001b[0m\u001b[1;33m\u001b[0m\u001b[0m\n\u001b[0m\u001b[0;32m     19\u001b[0m \u001b[1;32mif\u001b[0m \u001b[0mres\u001b[0m \u001b[1;33m==\u001b[0m \u001b[1;36m1\u001b[0m\u001b[1;33m:\u001b[0m\u001b[1;33m\u001b[0m\u001b[1;33m\u001b[0m\u001b[0m\n\u001b[0;32m     20\u001b[0m     \u001b[0mprint\u001b[0m\u001b[1;33m(\u001b[0m\u001b[1;34m\"it's a match\"\u001b[0m\u001b[1;33m)\u001b[0m\u001b[1;33m\u001b[0m\u001b[1;33m\u001b[0m\u001b[0m\n",
      "\u001b[1;32m<ipython-input-2-ab4fcbd2a333>\u001b[0m in \u001b[0;36mcheck\u001b[1;34m(mylist, sub)\u001b[0m\n\u001b[0;32m      2\u001b[0m     \u001b[0mx\u001b[0m\u001b[1;33m=\u001b[0m\u001b[0mmylist\u001b[0m\u001b[1;33m.\u001b[0m\u001b[0mindex\u001b[0m\u001b[1;33m(\u001b[0m\u001b[0msub\u001b[0m\u001b[1;33m[\u001b[0m\u001b[1;36m0\u001b[0m\u001b[1;33m]\u001b[0m\u001b[1;33m)\u001b[0m\u001b[1;33m\u001b[0m\u001b[1;33m\u001b[0m\u001b[0m\n\u001b[0;32m      3\u001b[0m     \u001b[0my\u001b[0m\u001b[1;33m=\u001b[0m\u001b[0mmylist\u001b[0m\u001b[1;33m.\u001b[0m\u001b[0mindex\u001b[0m\u001b[1;33m(\u001b[0m\u001b[0msub\u001b[0m\u001b[1;33m[\u001b[0m\u001b[1;36m1\u001b[0m\u001b[1;33m]\u001b[0m\u001b[1;33m,\u001b[0m\u001b[0mx\u001b[0m\u001b[1;33m+\u001b[0m\u001b[1;36m1\u001b[0m\u001b[1;33m)\u001b[0m\u001b[1;33m\u001b[0m\u001b[1;33m\u001b[0m\u001b[0m\n\u001b[1;32m----> 4\u001b[1;33m     \u001b[0mz\u001b[0m\u001b[1;33m=\u001b[0m\u001b[0mmylist\u001b[0m\u001b[1;33m.\u001b[0m\u001b[0mindex\u001b[0m\u001b[1;33m(\u001b[0m\u001b[0msub\u001b[0m\u001b[1;33m[\u001b[0m\u001b[1;36m2\u001b[0m\u001b[1;33m]\u001b[0m\u001b[1;33m,\u001b[0m\u001b[1;33m-\u001b[0m\u001b[1;36m1\u001b[0m\u001b[1;33m)\u001b[0m\u001b[1;33m\u001b[0m\u001b[1;33m\u001b[0m\u001b[0m\n\u001b[0m\u001b[0;32m      5\u001b[0m     \u001b[1;32mif\u001b[0m \u001b[0mz\u001b[0m\u001b[1;33m>\u001b[0m\u001b[0my\u001b[0m \u001b[1;32mand\u001b[0m \u001b[0my\u001b[0m\u001b[1;33m>\u001b[0m\u001b[0mx\u001b[0m\u001b[1;33m:\u001b[0m\u001b[1;33m\u001b[0m\u001b[1;33m\u001b[0m\u001b[0m\n\u001b[0;32m      6\u001b[0m         \u001b[1;32mreturn\u001b[0m \u001b[1;36m1\u001b[0m\u001b[1;33m\u001b[0m\u001b[1;33m\u001b[0m\u001b[0m\n",
      "\u001b[1;31mValueError\u001b[0m: 5 is not in list"
     ]
    }
   ],
   "source": [
    "def check(mylist,sub):\n",
    "    x=mylist.index(sub[0])\n",
    "    y=mylist.index(sub[1],x+1)\n",
    "    z=mylist.index(sub[2],-1)\n",
    "    if z>y and y>x:\n",
    "        return 1\n",
    "    else:\n",
    "        return 0\n",
    "#taking the list elemnts    \n",
    "mylist=[]\n",
    "sub= [1,1,5]\n",
    "n=int(input(\"Enter the number of elements:\"))\n",
    "for i in range(0, n):\n",
    "    ele=int(input())\n",
    "    mylist.append(ele)\n",
    "    \n",
    "#checking the list\n",
    "res=check(mylist,sub)\n",
    "if res == 1:\n",
    "    print(\"it's a match\")\n",
    "else:\n",
    "    print(\"it's gone\")\n",
    "\n"
   ]
  },
  {
   "cell_type": "code",
   "execution_count": 69,
   "metadata": {},
   "outputs": [
    {
     "name": "stdout",
     "output_type": "stream",
     "text": [
      "True\n"
     ]
    }
   ],
   "source": [
    "def checkSubset(list1, list2): \n",
    "    l1, l2 = list1[0], list2[0] \n",
    "    exist = True\n",
    "    for i in list2: \n",
    "        if i not in list1: \n",
    "            exist = False\n",
    "    return exist \n",
    "      \n",
    "\n",
    "list1 = [1,5,6,5,1,2,3,6] \n",
    "list2 = [1,1,5] \n",
    "print(checkSubset(list1, list2)) \n"
   ]
  },
  {
   "cell_type": "code",
   "execution_count": 9,
   "metadata": {},
   "outputs": [
    {
     "name": "stdout",
     "output_type": "stream",
     "text": [
      "please enter the number of elements:\n",
      "8\n",
      "Enter the elemnts now: 1\n",
      "3\n",
      "5\n",
      "6\n",
      "8\n",
      "1\n",
      "9\n",
      "8\n",
      "Sorry, it's gone.\n"
     ]
    }
   ],
   "source": [
    "mylist = [1,1,5]\n",
    "list1 = []\n",
    "list2 = []\n",
    "\n",
    "print(\"please enter the number of elements:\")\n",
    "len = int(input())\n",
    "\n",
    "print(\"Enter the elemnts now:\", end=\" \")\n",
    "for i in range(len):\n",
    "    list1.append(int(input()))\n",
    "dummy =  0\n",
    "\n",
    "for i in mylist:\n",
    "    for j in range(dummy, len):\n",
    "        if (i==list1[j]):\n",
    "            list2.append(i)\n",
    "            dummy = j+1\n",
    "            break\n",
    "if mylist == list2:\n",
    "    print(\"Congrats, It's a match. 1,1,5 is present the given list\")\n",
    "else:\n",
    "    print(\"Sorry, it's gone.\")\n",
    "    \n",
    "        "
   ]
  },
  {
   "cell_type": "code",
   "execution_count": null,
   "metadata": {},
   "outputs": [],
   "source": [
    "\n"
   ]
  },
  {
   "cell_type": "code",
   "execution_count": null,
   "metadata": {},
   "outputs": [],
   "source": []
  }
 ],
 "metadata": {
  "kernelspec": {
   "display_name": "Python 3",
   "language": "python",
   "name": "python3"
  },
  "language_info": {
   "codemirror_mode": {
    "name": "ipython",
    "version": 3
   },
   "file_extension": ".py",
   "mimetype": "text/x-python",
   "name": "python",
   "nbconvert_exporter": "python",
   "pygments_lexer": "ipython3",
   "version": "3.7.6"
  }
 },
 "nbformat": 4,
 "nbformat_minor": 4
}
