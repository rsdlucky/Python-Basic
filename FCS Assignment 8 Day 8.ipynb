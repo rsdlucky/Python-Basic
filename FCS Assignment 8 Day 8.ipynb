{
 "cells": [
  {
   "cell_type": "code",
   "execution_count": 8,
   "metadata": {},
   "outputs": [
    {
     "name": "stdout",
     "output_type": "stream",
     "text": [
      "Enter the number of digits in 0's and 1's only:1010\n",
      "NO"
     ]
    }
   ],
   "source": [
    "# python program to check if a single digit can be flipped to make all same in the given number.  \n",
    "\n",
    "num =input(\"Enter the number of digits in 0's and 1's only:\")\n",
    "zeros = 0\n",
    "for c in num:\n",
    "    if c == '0':\n",
    "        zeros = zeros+1\n",
    "if zeros == 1 or zeros == len(num)-1:\n",
    "    print ('YES', end='')\n",
    "else:\n",
    "    print ('NO',end='')"
   ]
  },
  {
   "cell_type": "code",
   "execution_count": null,
   "metadata": {},
   "outputs": [],
   "source": []
  }
 ],
 "metadata": {
  "kernelspec": {
   "display_name": "Python 3",
   "language": "python",
   "name": "python3"
  },
  "language_info": {
   "codemirror_mode": {
    "name": "ipython",
    "version": 3
   },
   "file_extension": ".py",
   "mimetype": "text/x-python",
   "name": "python",
   "nbconvert_exporter": "python",
   "pygments_lexer": "ipython3",
   "version": "3.7.6"
  }
 },
 "nbformat": 4,
 "nbformat_minor": 4
}
