{
 "cells": [
  {
   "cell_type": "markdown",
   "metadata": {},
   "source": [
    "# Assignment Topic 1"
   ]
  },
  {
   "cell_type": "code",
   "execution_count": 8,
   "metadata": {},
   "outputs": [
    {
     "name": "stdout",
     "output_type": "stream",
     "text": [
      "<map object at 0x00000246D7F895C8>\n",
      "[1, 4, 9, 16, 25, 36, 625]\n"
     ]
    }
   ],
   "source": [
    "#Complete NB for map, filter and lambda.\n",
    "\n",
    "# map(function, iterables)\n",
    "def sqr(a):\n",
    "    return a*a\n",
    "x=map(sqr ,[1,2,3,4,5,6,25])\n",
    "print(x)\n",
    "print(list(x))"
   ]
  },
  {
   "cell_type": "code",
   "execution_count": 9,
   "metadata": {},
   "outputs": [
    {
     "name": "stdout",
     "output_type": "stream",
     "text": [
      "[-1, 0, 1, 2]\n"
     ]
    }
   ],
   "source": [
    "def sqr(a,b):\n",
    "    return a-b\n",
    "print(list(map(sqr, [1,2,3,4], [2,2,2,2])))"
   ]
  },
  {
   "cell_type": "code",
   "execution_count": 11,
   "metadata": {},
   "outputs": [
    {
     "data": {
      "text/plain": [
       "9"
      ]
     },
     "execution_count": 11,
     "metadata": {},
     "output_type": "execute_result"
    }
   ],
   "source": [
    "#without lambda functioon\n",
    "def sqr(a):\n",
    "    return a*a\n",
    "sqr(3)"
   ]
  },
  {
   "cell_type": "code",
   "execution_count": 12,
   "metadata": {},
   "outputs": [
    {
     "data": {
      "text/plain": [
       "9"
      ]
     },
     "execution_count": 12,
     "metadata": {},
     "output_type": "execute_result"
    }
   ],
   "source": [
    "#lambda function\n",
    "sqr = lambda a: a*a\n",
    "sqr(3)\n"
   ]
  },
  {
   "cell_type": "code",
   "execution_count": 13,
   "metadata": {},
   "outputs": [
    {
     "name": "stdout",
     "output_type": "stream",
     "text": [
      "<function abc.<locals>.<lambda> at 0x00000246D7F8E678>\n",
      "9\n"
     ]
    }
   ],
   "source": [
    "#lambda within user defined function\n",
    "\n",
    "def abc(x):\n",
    "    return lambda y: x+y\n",
    "\n",
    "z= abc(4)\n",
    "print(z)\n",
    "print(z(5))"
   ]
  },
  {
   "cell_type": "code",
   "execution_count": 14,
   "metadata": {},
   "outputs": [
    {
     "data": {
      "text/plain": [
       "25"
      ]
     },
     "execution_count": 14,
     "metadata": {},
     "output_type": "execute_result"
    }
   ],
   "source": [
    "#Algebric expressons using Lambda function\n",
    "#Linear equations\n",
    "\n",
    "x = lambda a: a*a\n",
    "\n",
    "x(5)\n"
   ]
  },
  {
   "cell_type": "code",
   "execution_count": 15,
   "metadata": {},
   "outputs": [
    {
     "data": {
      "text/plain": [
       "11"
      ]
     },
     "execution_count": 15,
     "metadata": {},
     "output_type": "execute_result"
    }
   ],
   "source": [
    "#linear equatons 5x+3y\n",
    "\n",
    "z= lambda x,y: 5*x+3*y\n",
    "z(1,2)"
   ]
  },
  {
   "cell_type": "code",
   "execution_count": 16,
   "metadata": {},
   "outputs": [
    {
     "data": {
      "text/plain": [
       "5"
      ]
     },
     "execution_count": 16,
     "metadata": {},
     "output_type": "execute_result"
    }
   ],
   "source": [
    "#a+b^2\n",
    "\n",
    "z= lambda a,b: a+b**2\n",
    "z(1,2)"
   ]
  },
  {
   "cell_type": "code",
   "execution_count": 21,
   "metadata": {},
   "outputs": [
    {
     "name": "stdout",
     "output_type": "stream",
     "text": [
      "[4, 5, 6, 7]\n"
     ]
    }
   ],
   "source": [
    "#lambda function along with map function\n",
    "\n",
    "I = (1,2,3,4)\n",
    "\n",
    "z= list(map( lambda x: x+3, I))\n",
    "#list(z)\n",
    "print(z)"
   ]
  },
  {
   "cell_type": "code",
   "execution_count": 24,
   "metadata": {},
   "outputs": [
    {
     "name": "stdout",
     "output_type": "stream",
     "text": [
      "<filter object at 0x00000246D7F4AC88>\n",
      "<class 'filter'>\n",
      "[3, 4]\n"
     ]
    }
   ],
   "source": [
    "#FILTER (function, iterables\n",
    "\n",
    "def sqr(a):\n",
    "    if a >=3:\n",
    "        return a\n",
    "    \n",
    "x=filter(sqr, [1,2,3,4])\n",
    "print(x)\n",
    "print(type(x))\n",
    "print(list(x))\n"
   ]
  },
  {
   "cell_type": "code",
   "execution_count": 30,
   "metadata": {},
   "outputs": [
    {
     "name": "stdout",
     "output_type": "stream",
     "text": [
      "[3, 4, 5]\n"
     ]
    }
   ],
   "source": [
    "#filter function along with lambda\n",
    "I = [1,2,3,4,5]\n",
    "\n",
    "sqr = filter(lambda x: x>=3, I)\n",
    "print(list(sqr))"
   ]
  },
  {
   "cell_type": "code",
   "execution_count": 29,
   "metadata": {},
   "outputs": [
    {
     "name": "stdout",
     "output_type": "stream",
     "text": [
      "[3, 4, 5]\n"
     ]
    }
   ],
   "source": [
    "I = [1,2,3,4,5]\n",
    "print(list(filter(lambda x: x>=3, I)))"
   ]
  },
  {
   "cell_type": "markdown",
   "metadata": {},
   "source": [
    "# Assigment Topic 2"
   ]
  },
  {
   "cell_type": "code",
   "execution_count": 4,
   "metadata": {},
   "outputs": [
    {
     "name": "stdout",
     "output_type": "stream",
     "text": [
      "Enter the digits=3456\n",
      "Sum of sum of digits are:  9\n"
     ]
    }
   ],
   "source": [
    "#Python program to add the digits of a positive integer repeatedly until the result has a single digit.\n",
    "n=int(input(\"Enter the digits=\"))\n",
    "\n",
    "def sum_of_digits(n):\n",
    "    if n > 0:\n",
    "        return (n - 1) % 9 + 1  \n",
    "    else:\n",
    "        return 0\n",
    "\n",
    "print(\"Sum of sum of digits are: \",sum_of_digits(n))\n"
   ]
  },
  {
   "cell_type": "code",
   "execution_count": null,
   "metadata": {},
   "outputs": [],
   "source": []
  }
 ],
 "metadata": {
  "kernelspec": {
   "display_name": "Python 3",
   "language": "python",
   "name": "python3"
  },
  "language_info": {
   "codemirror_mode": {
    "name": "ipython",
    "version": 3
   },
   "file_extension": ".py",
   "mimetype": "text/x-python",
   "name": "python",
   "nbconvert_exporter": "python",
   "pygments_lexer": "ipython3",
   "version": "3.7.6"
  }
 },
 "nbformat": 4,
 "nbformat_minor": 4
}
